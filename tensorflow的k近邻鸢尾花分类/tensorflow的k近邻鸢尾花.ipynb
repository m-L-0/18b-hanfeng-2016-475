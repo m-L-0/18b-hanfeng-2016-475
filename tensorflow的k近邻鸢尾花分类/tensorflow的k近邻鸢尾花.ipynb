{
 "cells": [
  {
   "cell_type": "code",
   "execution_count": 2,
   "metadata": {
    "scrolled": true
   },
   "outputs": [],
   "source": [
    "import numpy as np\n",
    "import os\n",
    "import operator\n",
    "import tensorflow as tf\n",
    "os.environ['TF_CPP_MIN_LOG_LEVEL'] = '2'\n",
    "\n",
    "#准备数据\n",
    "from sklearn import datasets\n",
    "\n",
    "#随机数组初始化，将数据集打乱\n",
    "iris = datasets.load_iris()\n",
    "np.random.seed(0) \n",
    "i = np.random.permutation(len(iris.data))\n",
    "\n",
    "#分出训练集和测试集\n",
    "X_train = iris.data[i[:120]]\n",
    "X_test = iris.data[i[120:]]\n",
    "Y_train = iris.target[i[:120]]\n",
    "Y_test = iris.target[i[120:]]\n",
    "\n",
    "#设计knn分类模型\n",
    "def KNN_Classifier(X_train,Y_train,X_test,Y_test,K=5,dims=4,dist_metric='L1'):\n",
    "    # 计算图输入占位符\n",
    "    xs = tf.placeholder(tf.float32,[None,dims])\n",
    "    xst  = tf.placeholder(tf.float32,[dims])  \n",
    "    # 使用 L1 距离进行最近邻计算\n",
    "    # L1：dist = sum(|X1-X2|)  或 L2：dist=sqrt(sum(|X1-X2|^2))\n",
    "    dist = tf.reduce_sum(tf.abs(tf.add(xs,tf.negative(xst))),\n",
    "                         reduction_indices=1)\n",
    "    #或dist = tf.reduce_sum(tf.abs(tf.subtract(xtrain, xtest))), axis=1)\n",
    "\n",
    "    # 预测: 获得前K个最小距离的索引，用于与正确标签比较\n",
    "    #index = tf.arg_min(dist,0)\n",
    "    if K is None:\n",
    "        dim = tf.size(tf.shape(dist))   #矩阵元素的个数\n",
    "        if dim==1:\n",
    "            K = tf.shape(dist)[0]\n",
    "        elif dim==2:\n",
    "            K = tf.shape(dist)[1]\n",
    "        else:\n",
    "            K = tf.shape(dist)[-1]\n",
    "    # 从小到大排序，取前K个最小的\n",
    "    value,index = tf.nn.top_k(-dist,k=K)\n",
    "    value = -value\n",
    "\n",
    "\n",
    "    # 初始化所有变量\n",
    "    init = tf.global_variables_initializer()    \n",
    "\n",
    "    #定义一个正确率计算器\n",
    "    Accuracy = 0 \n",
    "\n",
    "    #执行会话\n",
    "    with tf.Session() as sess:\n",
    "        sess.run(init) \n",
    "        # 只能循环地对测试样本进行预测\n",
    "        for i in range(len(X_test)):    \n",
    "            idx = sess.run(index,feed_dict={xs:X_train,xst:X_test[i,:]})\n",
    "            # 计算预测标签和正确标签用于比较\n",
    "            a = Y_train[idx]   \n",
    "            classCount = {} #放最终的分类结果及投票数\n",
    "            for j in range(len(a)):\n",
    "                voteIlabel = a[j] \n",
    "                classCount[voteIlabel] = classCount.get(voteIlabel,0) + 1 \n",
    "            sortedClassCount = sorted(classCount.items(),key=operator.itemgetter(1),reverse=True)\n",
    "            Predict_label = sortedClassCount[0][0] \n",
    "            #print(Y_train[idx],'\\n',Klabels,'\\n',Predict_label)\n",
    "\n",
    "            True_label = Y_test[i]\n",
    "\n",
    "            print(\"Test Sample\",i,\"Prediction label:\",Predict_label,\n",
    "                  \"True Class label:\",True_label)\n",
    "\n",
    "            # 计算精确度\n",
    "            if Predict_label == True_label:\n",
    "                Accuracy +=1\n",
    "        print(\"Accuracy=\",Accuracy/len(X_test))    \n",
    "\n",
    "    return Accuracy"
   ]
  },
  {
   "cell_type": "code",
   "execution_count": 3,
   "metadata": {
    "scrolled": true
   },
   "outputs": [
    {
     "name": "stdout",
     "output_type": "stream",
     "text": [
      "Test Sample 0 Prediction label: 0 True Class label: 0\n",
      "Test Sample 1 Prediction label: 2 True Class label: 2\n",
      "Test Sample 2 Prediction label: 0 True Class label: 0\n",
      "Test Sample 3 Prediction label: 0 True Class label: 0\n",
      "Test Sample 4 Prediction label: 2 True Class label: 2\n",
      "Test Sample 5 Prediction label: 0 True Class label: 0\n",
      "Test Sample 6 Prediction label: 2 True Class label: 2\n",
      "Test Sample 7 Prediction label: 1 True Class label: 1\n",
      "Test Sample 8 Prediction label: 1 True Class label: 1\n",
      "Test Sample 9 Prediction label: 1 True Class label: 1\n",
      "Test Sample 10 Prediction label: 2 True Class label: 2\n",
      "Test Sample 11 Prediction label: 2 True Class label: 2\n",
      "Test Sample 12 Prediction label: 2 True Class label: 1\n",
      "Test Sample 13 Prediction label: 1 True Class label: 1\n",
      "Test Sample 14 Prediction label: 0 True Class label: 0\n",
      "Test Sample 15 Prediction label: 1 True Class label: 1\n",
      "Test Sample 16 Prediction label: 2 True Class label: 2\n",
      "Test Sample 17 Prediction label: 2 True Class label: 2\n",
      "Test Sample 18 Prediction label: 0 True Class label: 0\n",
      "Test Sample 19 Prediction label: 1 True Class label: 1\n",
      "Test Sample 20 Prediction label: 1 True Class label: 1\n",
      "Test Sample 21 Prediction label: 2 True Class label: 1\n",
      "Test Sample 22 Prediction label: 1 True Class label: 1\n",
      "Test Sample 23 Prediction label: 0 True Class label: 0\n",
      "Test Sample 24 Prediction label: 0 True Class label: 0\n",
      "Test Sample 25 Prediction label: 0 True Class label: 0\n",
      "Test Sample 26 Prediction label: 2 True Class label: 2\n",
      "Test Sample 27 Prediction label: 1 True Class label: 1\n",
      "Test Sample 28 Prediction label: 2 True Class label: 2\n",
      "Test Sample 29 Prediction label: 0 True Class label: 0\n",
      "Accuracy= 0.9333333333333333\n"
     ]
    }
   ],
   "source": [
    "#执行分类,k=4时，正确率93.3%\n",
    "if __name__ == '__main__':   \n",
    "    Accuracy =  KNN_Classifier(X_train,Y_train,X_test,Y_test,K=4,dims=4,dist_metric='L1') "
   ]
  },
  {
   "cell_type": "code",
   "execution_count": 6,
   "metadata": {
    "scrolled": true
   },
   "outputs": [
    {
     "name": "stdout",
     "output_type": "stream",
     "text": [
      "Test Sample 0 Prediction label: 0 True Class label: 0\n",
      "Test Sample 1 Prediction label: 2 True Class label: 2\n",
      "Test Sample 2 Prediction label: 0 True Class label: 0\n",
      "Test Sample 3 Prediction label: 0 True Class label: 0\n",
      "Test Sample 4 Prediction label: 2 True Class label: 2\n",
      "Test Sample 5 Prediction label: 0 True Class label: 0\n",
      "Test Sample 6 Prediction label: 2 True Class label: 2\n",
      "Test Sample 7 Prediction label: 1 True Class label: 1\n",
      "Test Sample 8 Prediction label: 1 True Class label: 1\n",
      "Test Sample 9 Prediction label: 1 True Class label: 1\n",
      "Test Sample 10 Prediction label: 2 True Class label: 2\n",
      "Test Sample 11 Prediction label: 2 True Class label: 2\n",
      "Test Sample 12 Prediction label: 2 True Class label: 1\n",
      "Test Sample 13 Prediction label: 2 True Class label: 1\n",
      "Test Sample 14 Prediction label: 0 True Class label: 0\n",
      "Test Sample 15 Prediction label: 1 True Class label: 1\n",
      "Test Sample 16 Prediction label: 2 True Class label: 2\n",
      "Test Sample 17 Prediction label: 2 True Class label: 2\n",
      "Test Sample 18 Prediction label: 0 True Class label: 0\n",
      "Test Sample 19 Prediction label: 1 True Class label: 1\n",
      "Test Sample 20 Prediction label: 1 True Class label: 1\n",
      "Test Sample 21 Prediction label: 2 True Class label: 1\n",
      "Test Sample 22 Prediction label: 1 True Class label: 1\n",
      "Test Sample 23 Prediction label: 0 True Class label: 0\n",
      "Test Sample 24 Prediction label: 0 True Class label: 0\n",
      "Test Sample 25 Prediction label: 0 True Class label: 0\n",
      "Test Sample 26 Prediction label: 2 True Class label: 2\n",
      "Test Sample 27 Prediction label: 1 True Class label: 1\n",
      "Test Sample 28 Prediction label: 2 True Class label: 2\n",
      "Test Sample 29 Prediction label: 0 True Class label: 0\n",
      "Accuracy= 0.9\n"
     ]
    }
   ],
   "source": [
    "#k=5时，正确率90%\n",
    "if __name__ == '__main__':   \n",
    "    Accuracy =  KNN_Classifier(X_train,Y_train,X_test,Y_test,K=5,dims=4,dist_metric='L1') "
   ]
  },
  {
   "cell_type": "code",
   "execution_count": 7,
   "metadata": {
    "scrolled": true
   },
   "outputs": [
    {
     "name": "stdout",
     "output_type": "stream",
     "text": [
      "Test Sample 0 Prediction label: 0 True Class label: 0\n",
      "Test Sample 1 Prediction label: 2 True Class label: 2\n",
      "Test Sample 2 Prediction label: 0 True Class label: 0\n",
      "Test Sample 3 Prediction label: 0 True Class label: 0\n",
      "Test Sample 4 Prediction label: 2 True Class label: 2\n",
      "Test Sample 5 Prediction label: 0 True Class label: 0\n",
      "Test Sample 6 Prediction label: 2 True Class label: 2\n",
      "Test Sample 7 Prediction label: 1 True Class label: 1\n",
      "Test Sample 8 Prediction label: 1 True Class label: 1\n",
      "Test Sample 9 Prediction label: 1 True Class label: 1\n",
      "Test Sample 10 Prediction label: 2 True Class label: 2\n",
      "Test Sample 11 Prediction label: 2 True Class label: 2\n",
      "Test Sample 12 Prediction label: 2 True Class label: 1\n",
      "Test Sample 13 Prediction label: 1 True Class label: 1\n",
      "Test Sample 14 Prediction label: 0 True Class label: 0\n",
      "Test Sample 15 Prediction label: 1 True Class label: 1\n",
      "Test Sample 16 Prediction label: 2 True Class label: 2\n",
      "Test Sample 17 Prediction label: 2 True Class label: 2\n",
      "Test Sample 18 Prediction label: 0 True Class label: 0\n",
      "Test Sample 19 Prediction label: 1 True Class label: 1\n",
      "Test Sample 20 Prediction label: 1 True Class label: 1\n",
      "Test Sample 21 Prediction label: 2 True Class label: 1\n",
      "Test Sample 22 Prediction label: 1 True Class label: 1\n",
      "Test Sample 23 Prediction label: 0 True Class label: 0\n",
      "Test Sample 24 Prediction label: 0 True Class label: 0\n",
      "Test Sample 25 Prediction label: 0 True Class label: 0\n",
      "Test Sample 26 Prediction label: 2 True Class label: 2\n",
      "Test Sample 27 Prediction label: 1 True Class label: 1\n",
      "Test Sample 28 Prediction label: 2 True Class label: 2\n",
      "Test Sample 29 Prediction label: 0 True Class label: 0\n",
      "Accuracy= 0.9333333333333333\n"
     ]
    }
   ],
   "source": [
    "#k=3时，正确率93.3%\n",
    "if __name__ == '__main__':   \n",
    "    Accuracy =  KNN_Classifier(X_train,Y_train,X_test,Y_test,K=3,dims=4,dist_metric='L1') "
   ]
  }
 ],
 "metadata": {
  "kernelspec": {
   "display_name": "Python 3",
   "language": "python",
   "name": "python3"
  },
  "language_info": {
   "codemirror_mode": {
    "name": "ipython",
    "version": 3
   },
   "file_extension": ".py",
   "mimetype": "text/x-python",
   "name": "python",
   "nbconvert_exporter": "python",
   "pygments_lexer": "ipython3",
   "version": "3.6.5"
  }
 },
 "nbformat": 4,
 "nbformat_minor": 2
}
