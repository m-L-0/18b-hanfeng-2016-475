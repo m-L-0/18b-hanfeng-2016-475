{
 "cells": [
  {
   "cell_type": "code",
   "execution_count": 1,
   "metadata": {},
   "outputs": [],
   "source": [
    "from sklearn.cluster import KMeans\n",
    "import numpy as np\n",
    "import random\n",
    "import copy\n",
    "import pandas as pd\n",
    "import matplotlib.pyplot as plt\n",
    "import operator\n",
    "from sklearn import datasets"
   ]
  },
  {
   "cell_type": "code",
   "execution_count": 2,
   "metadata": {},
   "outputs": [],
   "source": [
    "#获取数据集\n",
    "iris = datasets.load_iris()\n",
    "data = iris.data\n",
    "target = iris.target"
   ]
  },
  {
   "cell_type": "markdown",
   "metadata": {},
   "source": [
    "# 将鸢尾花数据集化成图"
   ]
  },
  {
   "cell_type": "code",
   "execution_count": 3,
   "metadata": {},
   "outputs": [
    {
     "data": {
      "text/plain": [
       "<matplotlib.axes._subplots.AxesSubplot at 0x1b88795e4a8>"
      ]
     },
     "execution_count": 3,
     "metadata": {},
     "output_type": "execute_result"
    },
    {
     "data": {
      "image/png": "[encoded data removed]",
      "text/plain": [
       "<Figure size 432x288 with 1 Axes>"
      ]
     },
     "metadata": {},
     "output_type": "display_data"
    }
   ],
   "source": [
    "url = \"https://archive.ics.uci.edu/ml/machine-learning-databases/iris/iris.data\"\n",
    "names = ['sepal-length', 'sepal-width', 'petal-length', 'petal-width', 'class']\n",
    "dataset = pd.read_csv(url,names=names)\n",
    "#绘制散点图\n",
    "dataset.plot(x='sepal-length', y='sepal-width', kind='scatter')"
   ]
  },
  {
   "cell_type": "code",
   "execution_count": 4,
   "metadata": {},
   "outputs": [],
   "source": [
    "#获得相似度矩阵\n",
    "points_num = len(data)"
   ]
  },
  {
   "cell_type": "code",
   "execution_count": 5,
   "metadata": {},
   "outputs": [],
   "source": [
    "dis_matrix = np.zeros((points_num,points_num))"
   ]
  },
  {
   "cell_type": "code",
   "execution_count": 6,
   "metadata": {},
   "outputs": [],
   "source": [
    "W = np.zeros((points_num,points_num))"
   ]
  },
  {
   "cell_type": "code",
   "execution_count": 7,
   "metadata": {},
   "outputs": [],
   "source": [
    "for i in range(points_num):\n",
    "    for j in range(i+1,points_num):\n",
    "        dis_matrix[i][j] = dis_matrix[j][i] = np.linalg.norm(data[i]-data[j])#欧式距离矩阵"
   ]
  },
  {
   "cell_type": "code",
   "execution_count": 8,
   "metadata": {},
   "outputs": [
    {
     "name": "stdout",
     "output_type": "stream",
     "text": [
      "[[0. 0. 0. ... 0. 0. 0.]\n",
      " [0. 0. 0. ... 0. 0. 0.]\n",
      " [0. 0. 0. ... 0. 0. 0.]\n",
      " ...\n",
      " [0. 0. 0. ... 0. 0. 0.]\n",
      " [0. 0. 0. ... 2. 0. 0.]\n",
      " [0. 0. 0. ... 0. 0. 0.]]\n"
     ]
    }
   ],
   "source": [
    "for idx,each in enumerate(dis_matrix):\n",
    "    index_array = np.argsort(each)#argsort是返回该行数据从小到大排序的索引\n",
    "    W[idx][index_array[1]] = 5\n",
    "    W[idx][index_array[2]] = 4\n",
    "    W[idx][index_array[3]] = 3\n",
    "    W[idx][index_array[4]] = 2\n",
    "    W[idx][index_array[5]] = 1\n",
    "print(W)"
   ]
  },
  {
   "cell_type": "markdown",
   "metadata": {},
   "source": [
    "# 计算带权邻接矩阵"
   ]
  },
  {
   "cell_type": "code",
   "execution_count": 9,
   "metadata": {},
   "outputs": [
    {
     "data": {
      "text/plain": [
       "array([[0., 0., 0., ..., 0., 0., 0.],\n",
       "       [0., 0., 0., ..., 0., 0., 0.],\n",
       "       [0., 0., 0., ..., 0., 0., 0.],\n",
       "       ...,\n",
       "       [0., 0., 0., ..., 0., 1., 0.],\n",
       "       [0., 0., 0., ..., 1., 0., 0.],\n",
       "       [0., 0., 0., ..., 0., 0., 0.]])"
      ]
     },
     "execution_count": 9,
     "metadata": {},
     "output_type": "execute_result"
    }
   ],
   "source": [
    "tmp_W = np.transpose(W)#W的转置\n",
    "W = (tmp_W+W)/2#转置相加除以2是为了让矩阵对称，W为带权邻接矩阵\n",
    "W"
   ]
  },
  {
   "cell_type": "code",
   "execution_count": 10,
   "metadata": {},
   "outputs": [],
   "source": [
    "#获得度矩阵\n",
    "points_num = len(W)\n",
    "D = np.diag(np.zeros(points_num))"
   ]
  },
  {
   "cell_type": "code",
   "execution_count": 11,
   "metadata": {},
   "outputs": [],
   "source": [
    "for i in range(points_num):\n",
    "    D[i][i] = sum(W[i])"
   ]
  },
  {
   "cell_type": "code",
   "execution_count": 12,
   "metadata": {},
   "outputs": [
    {
     "data": {
      "text/plain": [
       "array([[23. ,  0. ,  0. , ...,  0. ,  0. ,  0. ],\n",
       "       [ 0. , 20. ,  0. , ...,  0. ,  0. ,  0. ],\n",
       "       [ 0. ,  0. , 18.5, ...,  0. ,  0. ,  0. ],\n",
       "       ...,\n",
       "       [ 0. ,  0. ,  0. , ..., 21.5,  0. ,  0. ],\n",
       "       [ 0. ,  0. ,  0. , ...,  0. , 12.5,  0. ],\n",
       "       [ 0. ,  0. ,  0. , ...,  0. ,  0. , 16. ]])"
      ]
     },
     "execution_count": 12,
     "metadata": {},
     "output_type": "execute_result"
    }
   ],
   "source": [
    "D"
   ]
  },
  {
   "cell_type": "code",
   "execution_count": 13,
   "metadata": {},
   "outputs": [],
   "source": [
    "#获得拉普拉斯矩阵\n",
    "L = D - W"
   ]
  },
  {
   "cell_type": "code",
   "execution_count": 14,
   "metadata": {
    "scrolled": true
   },
   "outputs": [
    {
     "data": {
      "text/plain": [
       "array([-3.27515792e-15,  3.87834055e-01,  2.86927434e+01,  1.72178633e+00,\n",
       "        1.84274565e+00,  2.68645413e+01,  2.65850818e+01,  2.62563949e+01,\n",
       "        2.56227779e+01,  2.53952766e+01,  2.47890513e+01,  2.38510233e+01,\n",
       "        3.38470335e+00,  4.22174707e+00,  4.61575218e+00,  4.45506424e+00,\n",
       "        5.78238023e+00,  6.60062760e+00,  2.29056723e+01,  2.28790596e+01,\n",
       "        2.07638516e+01,  2.16744471e+01,  2.12888349e+01,  2.21516520e+01,\n",
       "        2.22207803e+01,  7.33757493e+00,  2.00158800e+01,  7.66897915e+00,\n",
       "        1.94326939e+01,  8.74146186e+00,  1.87184749e+01,  1.84581092e+01,\n",
       "        1.74950723e+01,  9.60549200e+00,  8.89469466e+00,  1.02276465e+01,\n",
       "        1.05907130e+01,  1.69789798e+01,  1.16765713e+01,  1.13972465e+01,\n",
       "        1.67743778e+01,  1.51645285e+01,  1.46138000e+01,  1.30794204e+01,\n",
       "        1.36752316e+01,  1.27270386e+01,  1.41273624e+01,  1.73333828e+01,\n",
       "        1.57495601e+01,  1.55618786e+01,  3.00711665e+01,  2.79496018e+01,\n",
       "        2.77722226e+01,  2.76834632e+01,  2.72960574e+01,  2.59636661e+01,\n",
       "       -7.86978256e-15,  1.18359208e-01,  3.38481725e-01,  7.64142205e-01,\n",
       "        8.15566512e-01,  1.20992948e+00,  1.99298554e+00,  2.26563630e+00,\n",
       "        2.51419356e+00,  3.05506556e+00,  3.22847012e+00,  2.58270476e+01,\n",
       "        2.57863226e+01,  2.49175976e+01,  2.53528331e+01,  3.47636833e+00,\n",
       "        3.89302008e+00,  4.34308170e+00,  4.18481595e+00,  4.97706955e+00,\n",
       "        6.26278266e+00,  5.73279919e+00,  5.91781667e+00,  5.81989300e+00,\n",
       "        2.47717987e+01,  2.45613734e+01,  6.73665371e+00,  7.38260803e+00,\n",
       "        2.41553216e+01,  2.41867309e+01,  2.40386577e+01,  7.77462661e+00,\n",
       "        7.52576814e+00,  8.22854039e+00,  2.31168423e+01,  2.34348361e+01,\n",
       "        2.33663288e+01,  2.25779503e+01,  2.22731854e+01,  8.71096098e+00,\n",
       "        8.54148201e+00,  9.36764655e+00,  1.01630805e+01,  9.69348787e+00,\n",
       "        2.20640563e+01,  2.20445633e+01,  1.06192086e+01,  1.07990729e+01,\n",
       "        2.13770444e+01,  2.13878671e+01,  2.10697632e+01,  2.09800443e+01,\n",
       "        1.09764949e+01,  1.11737866e+01,  1.14578448e+01,  1.18969940e+01,\n",
       "        1.20651506e+01,  1.25161997e+01,  1.28919921e+01,  1.29455669e+01,\n",
       "        1.32499422e+01,  1.40785644e+01,  1.37651033e+01,  1.47073446e+01,\n",
       "        1.52615795e+01,  1.49671857e+01,  2.03616234e+01,  2.02957520e+01,\n",
       "        2.01357757e+01,  2.01215598e+01,  2.00522385e+01,  1.97543541e+01,\n",
       "        1.96494152e+01,  1.72523383e+01,  1.64234169e+01,  1.94511277e+01,\n",
       "        1.84390951e+01,  1.87527118e+01,  1.93761368e+01,  1.49031040e+01,\n",
       "        1.89301052e+01,  1.92005576e+01,  1.77046477e+01,  1.69260516e+01,\n",
       "        1.59600629e+01,  1.59527239e+01,  1.67442212e+01,  1.62980724e+01,\n",
       "        1.68915507e+01,  1.79438724e+01,  1.86586560e+01,  1.77939306e+01,\n",
       "        1.93409247e+01,  1.92522687e+01])"
      ]
     },
     "execution_count": 14,
     "metadata": {},
     "output_type": "execute_result"
    }
   ],
   "source": [
    "#从拉普拉斯矩阵获得特征矩阵\n",
    "eigval,eigvec = np.linalg.eig(L)#拉普拉斯矩阵的特征值和右特征向量\n",
    "dim = len(eigval)\n",
    "eigval"
   ]
  },
  {
   "cell_type": "code",
   "execution_count": 15,
   "metadata": {},
   "outputs": [],
   "source": [
    "dictEigval = dict(zip(eigval,range(0,dim)))#将字典的键和值反转过来"
   ]
  },
  {
   "cell_type": "code",
   "execution_count": 16,
   "metadata": {},
   "outputs": [
    {
     "data": {
      "text/plain": [
       "{-3.2751579226442118e-15: 0,\n",
       " 0.38783405456905273: 1,\n",
       " 28.69274343130886: 2,\n",
       " 1.7217863342120836: 3,\n",
       " 1.8427456519221672: 4,\n",
       " 26.864541322562445: 5,\n",
       " 26.585081806768873: 6,\n",
       " 26.256394865795688: 7,\n",
       " 25.622777916576705: 8,\n",
       " 25.395276625032754: 9,\n",
       " 24.789051335707594: 10,\n",
       " 23.851023337119116: 11,\n",
       " 3.384703348920533: 12,\n",
       " 4.221747066288515: 13,\n",
       " 4.615752184701194: 14,\n",
       " 4.45506424319288: 15,\n",
       " 5.782380234187318: 16,\n",
       " 6.600627602155304: 17,\n",
       " 22.905672284510942: 18,\n",
       " 22.87905959285819: 19,\n",
       " 20.763851580650094: 20,\n",
       " 21.674447105021418: 21,\n",
       " 21.288834882927002: 22,\n",
       " 22.15165199388636: 23,\n",
       " 22.220780295547943: 24,\n",
       " 7.337574925076949: 25,\n",
       " 20.015880015627303: 26,\n",
       " 7.668979148856645: 27,\n",
       " 19.4326939414253: 28,\n",
       " 8.741461862951274: 29,\n",
       " 18.7184749395233: 30,\n",
       " 18.45810917422487: 31,\n",
       " 17.49507229891178: 32,\n",
       " 9.605491997542066: 33,\n",
       " 8.894694656454346: 34,\n",
       " 10.227646477651135: 35,\n",
       " 10.590712990489989: 36,\n",
       " 16.978979755782508: 37,\n",
       " 11.676571324007018: 38,\n",
       " 11.397246546181231: 39,\n",
       " 16.774377759595563: 40,\n",
       " 15.164528516510147: 41,\n",
       " 14.613799992460445: 42,\n",
       " 13.079420360999848: 43,\n",
       " 13.675231551367657: 44,\n",
       " 12.72703862861963: 45,\n",
       " 14.127362446498578: 46,\n",
       " 17.333382837102576: 47,\n",
       " 15.749560149964772: 48,\n",
       " 15.561878605752806: 49,\n",
       " 30.071166524363576: 50,\n",
       " 27.949601828557263: 51,\n",
       " 27.77222258812818: 52,\n",
       " 27.68346317589156: 53,\n",
       " 27.296057390592594: 54,\n",
       " 25.963666069305592: 55,\n",
       " -7.869782555884128e-15: 56,\n",
       " 0.11835920769481326: 57,\n",
       " 0.3384817253672619: 58,\n",
       " 0.7641422053123477: 59,\n",
       " 0.8155665118927434: 60,\n",
       " 1.2099294776091298: 61,\n",
       " 1.9929855383194264: 62,\n",
       " 2.2656363005759332: 63,\n",
       " 2.5141935610019543: 64,\n",
       " 3.05506556064989: 65,\n",
       " 3.2284701201199644: 66,\n",
       " 25.827047560347417: 67,\n",
       " 25.786322601924436: 68,\n",
       " 24.917597557832913: 69,\n",
       " 25.35283307408994: 70,\n",
       " 3.4763683299688015: 71,\n",
       " 3.893020079277273: 72,\n",
       " 4.343081703606294: 73,\n",
       " 4.18481594783407: 74,\n",
       " 4.977069550617665: 75,\n",
       " 6.2627826610229285: 76,\n",
       " 5.7327991862475685: 77,\n",
       " 5.917816666090024: 78,\n",
       " 5.819892998953626: 79,\n",
       " 24.77179868272559: 80,\n",
       " 24.56137338382107: 81,\n",
       " 6.736653709358295: 82,\n",
       " 7.3826080348667515: 83,\n",
       " 24.155321602991236: 84,\n",
       " 24.186730878203413: 85,\n",
       " 24.03865772194554: 86,\n",
       " 7.774626613742061: 87,\n",
       " 7.5257681390581626: 88,\n",
       " 8.228540385162331: 89,\n",
       " 23.116842252032583: 90,\n",
       " 23.434836137618706: 91,\n",
       " 23.36632875742031: 92,\n",
       " 22.57795025829439: 93,\n",
       " 22.273185431303475: 94,\n",
       " 8.710960982703137: 95,\n",
       " 8.541482007338454: 96,\n",
       " 9.367646545232773: 97,\n",
       " 10.16308046473551: 98,\n",
       " 9.693487865453289: 99,\n",
       " 22.06405632885817: 100,\n",
       " 22.0445632933894: 101,\n",
       " 10.619208648016045: 102,\n",
       " 10.799072867463904: 103,\n",
       " 21.377044428610805: 104,\n",
       " 21.38786712583821: 105,\n",
       " 21.069763199043905: 106,\n",
       " 20.980044273927827: 107,\n",
       " 10.97649491152929: 108,\n",
       " 11.173786625467555: 109,\n",
       " 11.457844847551545: 110,\n",
       " 11.896993975746536: 111,\n",
       " 12.065150555525065: 112,\n",
       " 12.516199738679097: 113,\n",
       " 12.891992116816564: 114,\n",
       " 12.945566859551809: 115,\n",
       " 13.24994224761012: 116,\n",
       " 14.078564363168798: 117,\n",
       " 13.765103259940348: 118,\n",
       " 14.707344555243331: 119,\n",
       " 15.261579502136314: 120,\n",
       " 14.967185712404074: 121,\n",
       " 20.36162337476569: 122,\n",
       " 20.295751995235232: 123,\n",
       " 20.135775720139524: 124,\n",
       " 20.121559784890376: 125,\n",
       " 20.052238546475845: 126,\n",
       " 19.75435414080021: 127,\n",
       " 19.64941521436497: 128,\n",
       " 17.25233831627958: 129,\n",
       " 16.423416939921943: 130,\n",
       " 19.451127661991332: 131,\n",
       " 18.439095139122326: 132,\n",
       " 18.75271180212014: 133,\n",
       " 19.37613680345511: 134,\n",
       " 14.903104007958685: 135,\n",
       " 18.93010517757095: 136,\n",
       " 19.200557618490116: 137,\n",
       " 17.70464768816189: 138,\n",
       " 16.92605155074633: 139,\n",
       " 15.96006286957469: 140,\n",
       " 15.952723934940074: 141,\n",
       " 16.74422122796472: 142,\n",
       " 16.298072390756584: 143,\n",
       " 16.89155068361009: 144,\n",
       " 17.943872400167372: 145,\n",
       " 18.658656005952245: 146,\n",
       " 17.793930579596523: 147,\n",
       " 19.340924683538915: 148,\n",
       " 19.25226874768834: 149}"
      ]
     },
     "execution_count": 16,
     "metadata": {},
     "output_type": "execute_result"
    }
   ],
   "source": [
    "dictEigval"
   ]
  },
  {
   "cell_type": "code",
   "execution_count": 17,
   "metadata": {},
   "outputs": [],
   "source": [
    "kEig = np.sort(eigval)[0:3]#将特征值从小到大排序然后选出最小的三个"
   ]
  },
  {
   "cell_type": "code",
   "execution_count": 18,
   "metadata": {},
   "outputs": [
    {
     "data": {
      "text/plain": [
       "array([-7.86978256e-15, -3.27515792e-15,  1.18359208e-01])"
      ]
     },
     "execution_count": 18,
     "metadata": {},
     "output_type": "execute_result"
    }
   ],
   "source": [
    "kEig"
   ]
  },
  {
   "cell_type": "code",
   "execution_count": 19,
   "metadata": {},
   "outputs": [],
   "source": [
    "ix = [dictEigval[k] for k in kEig]#获得最小的三个特征值得索引"
   ]
  },
  {
   "cell_type": "code",
   "execution_count": 20,
   "metadata": {},
   "outputs": [],
   "source": [
    "eigvec = eigvec[:,ix]#特征值对应的特征向量"
   ]
  },
  {
   "cell_type": "code",
   "execution_count": 142,
   "metadata": {},
   "outputs": [],
   "source": [
    "clf = KMeans(n_clusters=3,n_init=3)"
   ]
  },
  {
   "cell_type": "code",
   "execution_count": 146,
   "metadata": {},
   "outputs": [],
   "source": [
    "s = clf.fit(eigvec)"
   ]
  },
  {
   "cell_type": "code",
   "execution_count": 147,
   "metadata": {},
   "outputs": [],
   "source": [
    "C = s.labels_"
   ]
  },
  {
   "cell_type": "code",
   "execution_count": 148,
   "metadata": {},
   "outputs": [
    {
     "data": {
      "text/plain": [
       "array([0, 0, 0, 0, 0, 0, 0, 0, 0, 0, 0, 0, 0, 0, 0, 0, 0, 0, 0, 0, 0, 0,\n",
       "       0, 0, 0, 0, 0, 0, 0, 0, 0, 0, 0, 0, 0, 0, 0, 0, 0, 0, 0, 0, 0, 0,\n",
       "       0, 0, 0, 0, 0, 0, 1, 1, 1, 1, 1, 1, 1, 1, 1, 1, 1, 1, 1, 1, 1, 1,\n",
       "       1, 1, 1, 1, 1, 1, 1, 1, 1, 1, 1, 1, 1, 1, 1, 1, 1, 1, 1, 1, 1, 1,\n",
       "       1, 1, 1, 1, 1, 1, 1, 1, 1, 1, 1, 1, 2, 1, 2, 2, 2, 2, 1, 2, 2, 2,\n",
       "       2, 2, 2, 1, 1, 2, 2, 2, 2, 1, 2, 1, 2, 1, 2, 2, 1, 1, 2, 2, 2, 2,\n",
       "       2, 1, 2, 2, 2, 2, 1, 2, 2, 2, 1, 2, 2, 2, 1, 2, 2, 1])"
      ]
     },
     "execution_count": 148,
     "metadata": {},
     "output_type": "execute_result"
    }
   ],
   "source": [
    "#聚类结果\n",
    "C"
   ]
  },
  {
   "cell_type": "code",
   "execution_count": 151,
   "metadata": {},
   "outputs": [],
   "source": [
    "#画图，使得每种类别用不同的标记及颜色表示，同时使相似度大的两个样本之间有一条线，随着相似度的减弱线的深度减小\n",
    "def plot(matrix,C,k,dis_matrix):\n",
    "    for idx,value in enumerate(C):\n",
    "        if C[idx] == 0:\n",
    "            plt.plot(matrix[idx][0],matrix[idx][1],'^',color='r')\n",
    "        elif C[idx] == 1:\n",
    "            plt.plot(matrix[idx][0],matrix[idx][1],'o',color='b')\n",
    "        else:\n",
    "            plt.plot(matrix[idx][0],matrix[idx][1],'s',color='black')\n",
    "    for idx,each in enumerate(dis_matrix):\n",
    "        ia = np.argsort(each)\n",
    "        plt.plot([data[ia[0]][0],data[ia[1]][0]],[data[ia[0]][1],data[ia[1]][1]],linewidth='0.6',color='black')\n",
    "        plt.plot([data[ia[0]][0],data[ia[2]][0]],[data[ia[0]][1],data[ia[2]][1]],linewidth='0.5',color='black')\n",
    "        plt.plot([data[ia[0]][0],data[ia[3]][0]],[data[ia[0]][1],data[ia[3]][1]],linewidth='0.4',color='black')\n",
    "        plt.plot([data[ia[0]][0],data[ia[4]][0]],[data[ia[0]][1],data[ia[4]][1]],linewidth='0.3',color='black')\n",
    "        plt.plot([data[ia[0]][0],data[ia[5]][0]],[data[ia[0]][1],data[ia[5]][1]],linewidth='0.2',color='black')\n",
    "        plt.plot([data[ia[1]][0],data[ia[2]][0]],[data[ia[1]][1],data[ia[2]][1]],linewidth='0.5',color='black')\n",
    "        plt.plot([data[ia[1]][0],data[ia[3]][0]],[data[ia[1]][1],data[ia[3]][1]],linewidth='0.4',color='black')\n",
    "        plt.plot([data[ia[1]][0],data[ia[4]][0]],[data[ia[1]][1],data[ia[4]][1]],linewidth='0.3',color='black')\n",
    "        plt.plot([data[ia[1]][0],data[ia[5]][0]],[data[ia[1]][1],data[ia[5]][1]],linewidth='0.2',color='black')\n",
    "        plt.plot([data[ia[2]][0],data[ia[3]][0]],[data[ia[2]][1],data[ia[3]][1]],linewidth='0.4',color='black')\n",
    "        plt.plot([data[ia[2]][0],data[ia[4]][0]],[data[ia[2]][1],data[ia[4]][1]],linewidth='0.3',color='black')\n",
    "        plt.plot([data[ia[2]][0],data[ia[5]][0]],[data[ia[2]][1],data[ia[5]][1]],linewidth='0.2',color='black')\n",
    "        plt.plot([data[ia[3]][0],data[ia[4]][0]],[data[ia[3]][1],data[ia[4]][1]],linewidth='0.3',color='black')\n",
    "        plt.plot([data[ia[3]][0],data[ia[5]][0]],[data[ia[3]][1],data[ia[5]][1]],linewidth='0.2',color='black')\n",
    "        plt.plot([data[ia[4]][0],data[ia[5]][0]],[data[ia[4]][1],data[ia[5]][1]],linewidth='0.2',color='black')\n",
    "#     for i in range(len(centers)):\n",
    "#         plt.plot(centers[i][0],centers[i][1],'rx')\n",
    "    plt.savefig('鸢尾花聚类.jpg')\n",
    "    plt.show()"
   ]
  },
  {
   "cell_type": "markdown",
   "metadata": {},
   "source": [
    "# 画图"
   ]
  },
  {
   "cell_type": "code",
   "execution_count": 152,
   "metadata": {},
   "outputs": [
    {
     "data": {
      "image/png": "[encoded data removed]",
      "text/plain": [
       "<Figure size 432x288 with 1 Axes>"
      ]
     },
     "metadata": {},
     "output_type": "display_data"
    }
   ],
   "source": [
    "plot(data,s.labels_,3,dis_matrix)"
   ]
  },
  {
   "cell_type": "markdown",
   "metadata": {},
   "source": [
    "# 计算正确率"
   ]
  },
  {
   "cell_type": "code",
   "execution_count": 66,
   "metadata": {},
   "outputs": [
    {
     "name": "stdout",
     "output_type": "stream",
     "text": [
      "0.9066666666666666\n"
     ]
    }
   ],
   "source": [
    "s = 0\n",
    "for i in range(len(target)):\n",
    "    if C[i]==target[i]:\n",
    "        s += 1\n",
    "print(s/len(target))"
   ]
  },
  {
   "cell_type": "code",
   "execution_count": 90,
   "metadata": {},
   "outputs": [
    {
     "name": "stdout",
     "output_type": "stream",
     "text": [
      "[0 0 0 0 0 0 0 0 0 0 0 0 0 0 0 0 0 0 0 0 0 0 0 0 0 0 0 0 0 0 0 0 0 0 0 0 0\n",
      " 0 0 0 0 0 0 0 0 0 0 0 0 0 1 1 1 3 1 3 1 3 1 3 3 3 3 3 3 1 3 3 1 3 1 3 1 3\n",
      " 1 1 1 1 3 3 3 3 3 1 3 1 1 1 3 3 3 3 3 3 3 3 3 3 3 3 2 1 2 2 2 2 3 2 2 2 2\n",
      " 2 2 1 1 2 2 2 2 1 2 1 2 1 2 2 1 1 2 2 2 2 2 1 1 2 2 2 1 2 2 2 1 2 2 2 1 2\n",
      " 2 1]\n"
     ]
    }
   ],
   "source": [
    "#调参\n",
    "clf = KMeans(n_clusters=4,n_init=3)\n",
    "s = clf.fit(eigvec)\n",
    "C = s.labels_\n",
    "print(C)"
   ]
  },
  {
   "cell_type": "code",
   "execution_count": 91,
   "metadata": {},
   "outputs": [
    {
     "name": "stdout",
     "output_type": "stream",
     "text": [
      "0.6866666666666666\n"
     ]
    }
   ],
   "source": [
    "s = 0\n",
    "for i in range(len(target)):\n",
    "    if C[i]==target[i]:\n",
    "        s += 1\n",
    "print(s/len(target))"
   ]
  },
  {
   "cell_type": "code",
   "execution_count": 94,
   "metadata": {},
   "outputs": [
    {
     "name": "stdout",
     "output_type": "stream",
     "text": [
      "[0 0 0 0 0 0 0 0 0 0 0 0 0 0 0 0 0 0 0 0 0 0 0 0 0 0 0 0 0 0 0 0 0 0 0 0 0\n",
      " 0 0 0 0 0 0 0 0 0 0 0 0 0 1 1 1 1 1 1 1 1 1 1 1 1 1 1 1 1 1 1 1 1 1 1 1 1\n",
      " 1 1 1 1 1 1 1 1 1 1 1 1 1 1 1 1 1 1 1 1 1 1 1 1 1 1 1 1 1 1 1 1 1 1 1 1 1\n",
      " 1 1 1 1 1 1 1 1 1 1 1 1 1 1 1 1 1 1 1 1 1 1 1 1 1 1 1 1 1 1 1 1 1 1 1 1 1\n",
      " 1 1]\n"
     ]
    }
   ],
   "source": [
    "clf = KMeans(n_clusters=2,n_init=3)\n",
    "s = clf.fit(eigvec)\n",
    "C = s.labels_\n",
    "print(C)"
   ]
  },
  {
   "cell_type": "code",
   "execution_count": 95,
   "metadata": {},
   "outputs": [
    {
     "name": "stdout",
     "output_type": "stream",
     "text": [
      "0.6666666666666666\n"
     ]
    }
   ],
   "source": [
    "s = 0\n",
    "for i in range(len(target)):\n",
    "    if C[i]==target[i]:\n",
    "        s += 1\n",
    "print(s/len(target))"
   ]
  },
  {
   "cell_type": "code",
   "execution_count": 99,
   "metadata": {},
   "outputs": [
    {
     "name": "stdout",
     "output_type": "stream",
     "text": [
      "[0 0 0 0 0 0 0 0 0 0 0 0 0 0 0 0 0 0 0 0 0 0 0 0 0 0 0 0 0 0 0 0 0 0 0 0 0\n",
      " 0 0 0 0 0 0 0 0 0 0 0 0 0 1 1 1 1 1 1 1 1 1 1 1 1 1 1 1 1 1 1 1 1 1 1 1 1\n",
      " 1 1 1 1 1 1 1 1 1 1 1 1 1 1 1 1 1 1 1 1 1 1 1 1 1 1 2 1 2 2 2 2 1 2 2 2 2\n",
      " 2 2 1 1 2 2 2 2 1 2 1 2 1 2 2 1 1 2 2 2 2 2 1 2 2 2 2 1 2 2 2 1 2 2 2 1 2\n",
      " 2 1]\n"
     ]
    }
   ],
   "source": [
    "clf = KMeans(n_clusters=3,n_init=5)\n",
    "s = clf.fit(eigvec)\n",
    "C = s.labels_\n",
    "print(C)"
   ]
  },
  {
   "cell_type": "code",
   "execution_count": 100,
   "metadata": {},
   "outputs": [
    {
     "name": "stdout",
     "output_type": "stream",
     "text": [
      "0.9066666666666666\n"
     ]
    }
   ],
   "source": [
    "s = 0\n",
    "for i in range(len(target)):\n",
    "    if C[i]==target[i]:\n",
    "        s += 1\n",
    "print(s/len(target))"
   ]
  },
  {
   "cell_type": "code",
   "execution_count": 106,
   "metadata": {},
   "outputs": [
    {
     "name": "stdout",
     "output_type": "stream",
     "text": [
      "[0 0 0 0 0 0 0 0 0 0 0 0 0 0 0 0 0 0 0 0 0 0 0 0 0 0 0 0 0 0 0 0 0 0 0 0 0\n",
      " 0 0 0 0 0 0 0 0 0 0 0 0 0 1 1 1 1 1 1 1 1 1 1 1 1 1 1 1 1 1 1 1 1 1 1 1 1\n",
      " 1 1 1 1 1 1 1 1 1 1 1 1 1 1 1 1 1 1 1 1 1 1 1 1 1 1 2 1 2 2 2 2 1 2 2 2 2\n",
      " 2 2 1 1 2 2 2 2 1 2 1 2 1 2 2 1 1 2 2 2 2 2 1 2 2 2 2 1 2 2 2 1 2 2 2 1 2\n",
      " 2 1]\n"
     ]
    }
   ],
   "source": [
    "clf = KMeans(n_clusters=3,n_init=10)\n",
    "s = clf.fit(eigvec)\n",
    "C = s.labels_\n",
    "print(C)"
   ]
  },
  {
   "cell_type": "code",
   "execution_count": 107,
   "metadata": {},
   "outputs": [
    {
     "name": "stdout",
     "output_type": "stream",
     "text": [
      "0.9066666666666666\n"
     ]
    }
   ],
   "source": [
    "s = 0\n",
    "for i in range(len(target)):\n",
    "    if C[i]==target[i]:\n",
    "        s += 1\n",
    "print(s/len(target))"
   ]
  }
 ],
 "metadata": {
  "kernelspec": {
   "display_name": "Python 3",
   "language": "python",
   "name": "python3"
  },
  "language_info": {
   "codemirror_mode": {
    "name": "ipython",
    "version": 3
   },
   "file_extension": ".py",
   "mimetype": "text/x-python",
   "name": "python",
   "nbconvert_exporter": "python",
   "pygments_lexer": "ipython3",
   "version": "3.6.5"
  }
 },
 "nbformat": 4,
 "nbformat_minor": 2
}
